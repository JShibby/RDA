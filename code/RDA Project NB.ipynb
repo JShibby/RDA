{
 "cells": [
  {
   "cell_type": "markdown",
   "metadata": {},
   "source": [
    "# Is It Possible to Satisfy the RDA? - Companion Notebook"
   ]
  },
  {
   "cell_type": "markdown",
   "metadata": {},
   "source": [
    "Welcome to the interactive companion for the project \"Is It Possible to Satisfy the RDA!\"  \n",
    "\n",
    "Please get started by running the initial script below.  This script will load the original dataset provided by the USDA called the SR28, as well as a small subset of that data, and a few functions."
   ]
  },
  {
   "cell_type": "code",
   "execution_count": 1,
   "metadata": {},
   "outputs": [],
   "source": [
    "%run -i \"data.py\""
   ]
  },
  {
   "cell_type": "markdown",
   "metadata": {},
   "source": [
    "## Overview of the Dataset"
   ]
  },
  {
   "cell_type": "markdown",
   "metadata": {},
   "source": [
    "The original dataset contains thousands of records, while the curated dataset is smaller."
   ]
  },
  {
   "cell_type": "code",
   "execution_count": 2,
   "metadata": {},
   "outputs": [
    {
     "name": "stdout",
     "output_type": "stream",
     "text": [
      "SR28: 6347\n",
      "Curated subset: 136\n"
     ]
    }
   ],
   "source": [
    "print('SR28:', len(dfo))\n",
    "# df - curated subset\n",
    "print('Curated subset:', len(df))"
   ]
  },
  {
   "cell_type": "markdown",
   "metadata": {},
   "source": [
    "The curated data has been calibrated to 50 gram serving sizes.  Here are the first few rows."
   ]
  },
  {
   "cell_type": "code",
   "execution_count": 3,
   "metadata": {},
   "outputs": [
    {
     "data": {
      "text/html": [
       "<div>\n",
       "<style scoped>\n",
       "    .dataframe tbody tr th:only-of-type {\n",
       "        vertical-align: middle;\n",
       "    }\n",
       "\n",
       "    .dataframe tbody tr th {\n",
       "        vertical-align: top;\n",
       "    }\n",
       "\n",
       "    .dataframe thead th {\n",
       "        text-align: right;\n",
       "    }\n",
       "</style>\n",
       "<table border=\"1\" class=\"dataframe\">\n",
       "  <thead>\n",
       "    <tr style=\"text-align: right;\">\n",
       "      <th></th>\n",
       "      <th>Food Group</th>\n",
       "      <th>Food</th>\n",
       "      <th>Protein (g)</th>\n",
       "      <th>Fat (g)</th>\n",
       "      <th>Carbohydrates (g)</th>\n",
       "      <th>Ash (g)</th>\n",
       "      <th>Calories</th>\n",
       "      <th>Starch (g)</th>\n",
       "      <th>Sucrose (g)</th>\n",
       "      <th>Glucose (g)</th>\n",
       "      <th>...</th>\n",
       "      <th>Niacin (B3) (mg)</th>\n",
       "      <th>Vitamin B5 (mg)</th>\n",
       "      <th>Vitamin B6 (mg)</th>\n",
       "      <th>Folate (B9) (mcg)</th>\n",
       "      <th>Vitamin B12 (mcg)</th>\n",
       "      <th>Choline (mg)</th>\n",
       "      <th>Cholesterol (mg)</th>\n",
       "      <th>Saturated Fat (g)</th>\n",
       "      <th>Net Carbs</th>\n",
       "      <th>Mass (g)</th>\n",
       "    </tr>\n",
       "    <tr>\n",
       "      <th>ID#</th>\n",
       "      <th></th>\n",
       "      <th></th>\n",
       "      <th></th>\n",
       "      <th></th>\n",
       "      <th></th>\n",
       "      <th></th>\n",
       "      <th></th>\n",
       "      <th></th>\n",
       "      <th></th>\n",
       "      <th></th>\n",
       "      <th></th>\n",
       "      <th></th>\n",
       "      <th></th>\n",
       "      <th></th>\n",
       "      <th></th>\n",
       "      <th></th>\n",
       "      <th></th>\n",
       "      <th></th>\n",
       "      <th></th>\n",
       "      <th></th>\n",
       "      <th></th>\n",
       "    </tr>\n",
       "  </thead>\n",
       "  <tbody>\n",
       "    <tr>\n",
       "      <th>1009</th>\n",
       "      <td>Dairy and Egg Products</td>\n",
       "      <td>Cheese, cheddar</td>\n",
       "      <td>11.435</td>\n",
       "      <td>16.655</td>\n",
       "      <td>1.545</td>\n",
       "      <td>1.855</td>\n",
       "      <td>202.0</td>\n",
       "      <td>0.0</td>\n",
       "      <td>0.000</td>\n",
       "      <td>0.13</td>\n",
       "      <td>...</td>\n",
       "      <td>0.0295</td>\n",
       "      <td>0.2050</td>\n",
       "      <td>0.0330</td>\n",
       "      <td>13.5</td>\n",
       "      <td>0.550</td>\n",
       "      <td>8.25</td>\n",
       "      <td>49.5</td>\n",
       "      <td>9.4335</td>\n",
       "      <td>1.545</td>\n",
       "      <td>50.0</td>\n",
       "    </tr>\n",
       "    <tr>\n",
       "      <th>1015</th>\n",
       "      <td>Dairy and Egg Products</td>\n",
       "      <td>Cheese, cottage</td>\n",
       "      <td>5.225</td>\n",
       "      <td>1.135</td>\n",
       "      <td>2.380</td>\n",
       "      <td>0.635</td>\n",
       "      <td>40.5</td>\n",
       "      <td>0.0</td>\n",
       "      <td>0.000</td>\n",
       "      <td>0.00</td>\n",
       "      <td>...</td>\n",
       "      <td>0.0515</td>\n",
       "      <td>0.2620</td>\n",
       "      <td>0.0285</td>\n",
       "      <td>4.0</td>\n",
       "      <td>0.235</td>\n",
       "      <td>8.15</td>\n",
       "      <td>6.0</td>\n",
       "      <td>0.6175</td>\n",
       "      <td>2.380</td>\n",
       "      <td>50.0</td>\n",
       "    </tr>\n",
       "    <tr>\n",
       "      <th>1026</th>\n",
       "      <td>Dairy and Egg Products</td>\n",
       "      <td>Cheese, mozzarella</td>\n",
       "      <td>11.085</td>\n",
       "      <td>11.175</td>\n",
       "      <td>1.095</td>\n",
       "      <td>1.640</td>\n",
       "      <td>150.0</td>\n",
       "      <td>0.0</td>\n",
       "      <td>0.015</td>\n",
       "      <td>0.28</td>\n",
       "      <td>...</td>\n",
       "      <td>0.0520</td>\n",
       "      <td>0.0705</td>\n",
       "      <td>0.0185</td>\n",
       "      <td>3.5</td>\n",
       "      <td>1.140</td>\n",
       "      <td>7.70</td>\n",
       "      <td>39.5</td>\n",
       "      <td>6.5760</td>\n",
       "      <td>1.095</td>\n",
       "      <td>50.0</td>\n",
       "    </tr>\n",
       "    <tr>\n",
       "      <th>1077</th>\n",
       "      <td>Dairy and Egg Products</td>\n",
       "      <td>Milk, whole</td>\n",
       "      <td>1.575</td>\n",
       "      <td>1.625</td>\n",
       "      <td>2.400</td>\n",
       "      <td>0.335</td>\n",
       "      <td>30.5</td>\n",
       "      <td>0.0</td>\n",
       "      <td>0.000</td>\n",
       "      <td>0.00</td>\n",
       "      <td>...</td>\n",
       "      <td>0.0445</td>\n",
       "      <td>0.1865</td>\n",
       "      <td>0.0180</td>\n",
       "      <td>2.5</td>\n",
       "      <td>0.225</td>\n",
       "      <td>7.15</td>\n",
       "      <td>5.0</td>\n",
       "      <td>0.9325</td>\n",
       "      <td>2.400</td>\n",
       "      <td>50.0</td>\n",
       "    </tr>\n",
       "    <tr>\n",
       "      <th>1116</th>\n",
       "      <td>Dairy and Egg Products</td>\n",
       "      <td>Yogurt, plain</td>\n",
       "      <td>1.735</td>\n",
       "      <td>1.625</td>\n",
       "      <td>2.330</td>\n",
       "      <td>0.360</td>\n",
       "      <td>30.5</td>\n",
       "      <td>0.0</td>\n",
       "      <td>0.000</td>\n",
       "      <td>0.00</td>\n",
       "      <td>...</td>\n",
       "      <td>0.0375</td>\n",
       "      <td>0.1945</td>\n",
       "      <td>0.0160</td>\n",
       "      <td>3.5</td>\n",
       "      <td>0.185</td>\n",
       "      <td>7.60</td>\n",
       "      <td>6.5</td>\n",
       "      <td>1.0480</td>\n",
       "      <td>2.330</td>\n",
       "      <td>50.0</td>\n",
       "    </tr>\n",
       "  </tbody>\n",
       "</table>\n",
       "<p>5 rows × 56 columns</p>\n",
       "</div>"
      ],
      "text/plain": [
       "                  Food Group                Food  Protein (g)  Fat (g)  \\\n",
       "ID#                                                                      \n",
       "1009  Dairy and Egg Products     Cheese, cheddar       11.435   16.655   \n",
       "1015  Dairy and Egg Products     Cheese, cottage        5.225    1.135   \n",
       "1026  Dairy and Egg Products  Cheese, mozzarella       11.085   11.175   \n",
       "1077  Dairy and Egg Products         Milk, whole        1.575    1.625   \n",
       "1116  Dairy and Egg Products       Yogurt, plain        1.735    1.625   \n",
       "\n",
       "      Carbohydrates (g)  Ash (g)  Calories  Starch (g)  Sucrose (g)  \\\n",
       "ID#                                                                   \n",
       "1009              1.545    1.855     202.0         0.0        0.000   \n",
       "1015              2.380    0.635      40.5         0.0        0.000   \n",
       "1026              1.095    1.640     150.0         0.0        0.015   \n",
       "1077              2.400    0.335      30.5         0.0        0.000   \n",
       "1116              2.330    0.360      30.5         0.0        0.000   \n",
       "\n",
       "      Glucose (g)    ...     Niacin (B3) (mg)  Vitamin B5 (mg)  \\\n",
       "ID#                  ...                                         \n",
       "1009         0.13    ...               0.0295           0.2050   \n",
       "1015         0.00    ...               0.0515           0.2620   \n",
       "1026         0.28    ...               0.0520           0.0705   \n",
       "1077         0.00    ...               0.0445           0.1865   \n",
       "1116         0.00    ...               0.0375           0.1945   \n",
       "\n",
       "      Vitamin B6 (mg)  Folate (B9) (mcg)  Vitamin B12 (mcg)  Choline (mg)  \\\n",
       "ID#                                                                         \n",
       "1009           0.0330               13.5              0.550          8.25   \n",
       "1015           0.0285                4.0              0.235          8.15   \n",
       "1026           0.0185                3.5              1.140          7.70   \n",
       "1077           0.0180                2.5              0.225          7.15   \n",
       "1116           0.0160                3.5              0.185          7.60   \n",
       "\n",
       "      Cholesterol (mg)  Saturated Fat (g)  Net Carbs  Mass (g)  \n",
       "ID#                                                             \n",
       "1009              49.5             9.4335      1.545      50.0  \n",
       "1015               6.0             0.6175      2.380      50.0  \n",
       "1026              39.5             6.5760      1.095      50.0  \n",
       "1077               5.0             0.9325      2.400      50.0  \n",
       "1116               6.5             1.0480      2.330      50.0  \n",
       "\n",
       "[5 rows x 56 columns]"
      ]
     },
     "execution_count": 3,
     "metadata": {},
     "output_type": "execute_result"
    }
   ],
   "source": [
    "df.head(5)"
   ]
  },
  {
   "cell_type": "markdown",
   "metadata": {},
   "source": [
    "The goal of the project is analyzing how much nutrient satisfaction is possible on the basis of natural foods.  Since we eat more genuses of plants than animals, fruits and vegetables have more entries."
   ]
  },
  {
   "cell_type": "code",
   "execution_count": 4,
   "metadata": {},
   "outputs": [
    {
     "data": {
      "text/html": [
       "<div>\n",
       "<style scoped>\n",
       "    .dataframe tbody tr th:only-of-type {\n",
       "        vertical-align: middle;\n",
       "    }\n",
       "\n",
       "    .dataframe tbody tr th {\n",
       "        vertical-align: top;\n",
       "    }\n",
       "\n",
       "    .dataframe thead th {\n",
       "        text-align: right;\n",
       "    }\n",
       "</style>\n",
       "<table border=\"1\" class=\"dataframe\">\n",
       "  <thead>\n",
       "    <tr style=\"text-align: right;\">\n",
       "      <th></th>\n",
       "      <th>Food Group</th>\n",
       "    </tr>\n",
       "  </thead>\n",
       "  <tbody>\n",
       "    <tr>\n",
       "      <th>Vegetables and Vegetable Produ</th>\n",
       "      <td>37</td>\n",
       "    </tr>\n",
       "    <tr>\n",
       "      <th>Fruits and Fruit Juices</th>\n",
       "      <td>26</td>\n",
       "    </tr>\n",
       "    <tr>\n",
       "      <th>Finfish and Shellfish Products</th>\n",
       "      <td>10</td>\n",
       "    </tr>\n",
       "    <tr>\n",
       "      <th>Legumes and Legume Products</th>\n",
       "      <td>10</td>\n",
       "    </tr>\n",
       "    <tr>\n",
       "      <th>Nut and Seed Products</th>\n",
       "      <td>8</td>\n",
       "    </tr>\n",
       "    <tr>\n",
       "      <th>Dairy and Egg Products</th>\n",
       "      <td>8</td>\n",
       "    </tr>\n",
       "    <tr>\n",
       "      <th>Lamb, Veal</th>\n",
       "      <td>8</td>\n",
       "    </tr>\n",
       "    <tr>\n",
       "      <th>Cereal Grains and Pasta</th>\n",
       "      <td>6</td>\n",
       "    </tr>\n",
       "    <tr>\n",
       "      <th>Poultry Products</th>\n",
       "      <td>5</td>\n",
       "    </tr>\n",
       "    <tr>\n",
       "      <th>Baked Products</th>\n",
       "      <td>4</td>\n",
       "    </tr>\n",
       "    <tr>\n",
       "      <th>Beef Products</th>\n",
       "      <td>4</td>\n",
       "    </tr>\n",
       "    <tr>\n",
       "      <th>Sweets</th>\n",
       "      <td>4</td>\n",
       "    </tr>\n",
       "    <tr>\n",
       "      <th>Pork Products</th>\n",
       "      <td>3</td>\n",
       "    </tr>\n",
       "    <tr>\n",
       "      <th>Snacks</th>\n",
       "      <td>3</td>\n",
       "    </tr>\n",
       "  </tbody>\n",
       "</table>\n",
       "</div>"
      ],
      "text/plain": [
       "                                Food Group\n",
       "Vegetables and Vegetable Produ          37\n",
       "Fruits and Fruit Juices                 26\n",
       "Finfish and Shellfish Products          10\n",
       "Legumes and Legume Products             10\n",
       "Nut and Seed Products                    8\n",
       "Dairy and Egg Products                   8\n",
       "Lamb, Veal                               8\n",
       "Cereal Grains and Pasta                  6\n",
       "Poultry Products                         5\n",
       "Baked Products                           4\n",
       "Beef Products                            4\n",
       "Sweets                                   4\n",
       "Pork Products                            3\n",
       "Snacks                                   3"
      ]
     },
     "execution_count": 4,
     "metadata": {},
     "output_type": "execute_result"
    }
   ],
   "source": [
    "df['Food Group'].value_counts().to_frame()"
   ]
  },
  {
   "cell_type": "markdown",
   "metadata": {},
   "source": [
    "View the foods included in any group."
   ]
  },
  {
   "cell_type": "code",
   "execution_count": 5,
   "metadata": {},
   "outputs": [
    {
     "data": {
      "text/html": [
       "<div>\n",
       "<style scoped>\n",
       "    .dataframe tbody tr th:only-of-type {\n",
       "        vertical-align: middle;\n",
       "    }\n",
       "\n",
       "    .dataframe tbody tr th {\n",
       "        vertical-align: top;\n",
       "    }\n",
       "\n",
       "    .dataframe thead th {\n",
       "        text-align: right;\n",
       "    }\n",
       "</style>\n",
       "<table border=\"1\" class=\"dataframe\">\n",
       "  <thead>\n",
       "    <tr style=\"text-align: right;\">\n",
       "      <th></th>\n",
       "      <th>Food</th>\n",
       "    </tr>\n",
       "    <tr>\n",
       "      <th>ID#</th>\n",
       "      <th></th>\n",
       "    </tr>\n",
       "  </thead>\n",
       "  <tbody>\n",
       "    <tr>\n",
       "      <th>13367</th>\n",
       "      <td>Beef, brisket</td>\n",
       "    </tr>\n",
       "    <tr>\n",
       "      <th>13373</th>\n",
       "      <td>Beef, chuck</td>\n",
       "    </tr>\n",
       "    <tr>\n",
       "      <th>13399</th>\n",
       "      <td>Beef, round</td>\n",
       "    </tr>\n",
       "    <tr>\n",
       "      <th>13451</th>\n",
       "      <td>Beef, top sirloin</td>\n",
       "    </tr>\n",
       "  </tbody>\n",
       "</table>\n",
       "</div>"
      ],
      "text/plain": [
       "                    Food\n",
       "ID#                     \n",
       "13367      Beef, brisket\n",
       "13373        Beef, chuck\n",
       "13399        Beef, round\n",
       "13451  Beef, top sirloin"
      ]
     },
     "execution_count": 5,
     "metadata": {},
     "output_type": "execute_result"
    }
   ],
   "source": [
    "group = 'Beef Products'\n",
    "s = df.loc[df['Food Group'] == group].Food\n",
    "s.to_frame()"
   ]
  },
  {
   "cell_type": "markdown",
   "metadata": {},
   "source": [
    "The `food_finder()` function allows you to search for foods.  It prints all records that match to let you choose something specific if necessary.  \n",
    "\n",
    "`key_nutrients` is a short list of nutrients to try to get a snapshot of a food's contents.  "
   ]
  },
  {
   "cell_type": "code",
   "execution_count": 6,
   "metadata": {},
   "outputs": [],
   "source": [
    "key_nutrients = ['Protein (g)', \n",
    "                 'Fiber (g)',\n",
    "                 'Vitamin A (IU)',\n",
    "                 'Thiamin (B1) (mg)',\n",
    "                 'Vitamin C (mg)',\n",
    "                 'Calcium (mg)', \n",
    "                 'Iron (mg)']"
   ]
  },
  {
   "cell_type": "code",
   "execution_count": 7,
   "metadata": {},
   "outputs": [
    {
     "name": "stdout",
     "output_type": "stream",
     "text": [
      "ID#\n",
      "13367    Beef, brisket\n",
      "Name: Food, dtype: object\n"
     ]
    },
    {
     "data": {
      "text/plain": [
       "Protein (g)          13.395\n",
       "Fiber (g)                 0\n",
       "Vitamin A (IU)            0\n",
       "Thiamin (B1) (mg)     0.035\n",
       "Vitamin C (mg)            0\n",
       "Calcium (mg)            3.5\n",
       "Iron (mg)             1.265\n",
       "Name: 13367, dtype: object"
      ]
     },
     "execution_count": 7,
     "metadata": {},
     "output_type": "execute_result"
    }
   ],
   "source": [
    "food = food_finder('brisket')\n",
    "df.loc[food, key_nutrients]"
   ]
  },
  {
   "cell_type": "code",
   "execution_count": 8,
   "metadata": {},
   "outputs": [
    {
     "name": "stdout",
     "output_type": "stream",
     "text": [
      "ID#\n",
      "9003          Apples, raw\n",
      "9267    Pineapple, canned\n",
      "Name: Food, dtype: object\n"
     ]
    },
    {
     "data": {
      "text/plain": [
       "Protein (g)            0.13\n",
       "Fiber (g)               1.2\n",
       "Vitamin A (IU)           27\n",
       "Thiamin (B1) (mg)    0.0085\n",
       "Vitamin C (mg)          2.3\n",
       "Calcium (mg)              3\n",
       "Iron (mg)              0.06\n",
       "Name: 9003, dtype: object"
      ]
     },
     "execution_count": 8,
     "metadata": {},
     "output_type": "execute_result"
    }
   ],
   "source": [
    "food = food_finder('apple')\n",
    "# In the case of apples, two foods are referenced.  The user needs to specify the right one.\n",
    "food = 9003\n",
    "df.loc[food, key_nutrients]"
   ]
  },
  {
   "cell_type": "markdown",
   "metadata": {},
   "source": [
    "## Nutrient Profiles"
   ]
  },
  {
   "cell_type": "markdown",
   "metadata": {},
   "source": [
    "Let us look at the nutrients in various foods.  Run the code below."
   ]
  },
  {
   "cell_type": "code",
   "execution_count": 9,
   "metadata": {},
   "outputs": [],
   "source": [
    "%run -i \"explore_functions.py\""
   ]
  },
  {
   "cell_type": "markdown",
   "metadata": {},
   "source": [
    "This project focuses on nutrient density or nutrients per calories.  The `analyze_food()` function shows a nutrient profile for a food per 50 calories.\n",
    "\n",
    "Use the code below to explore different foods, replacing the initial text assignment for `food`."
   ]
  },
  {
   "cell_type": "code",
   "execution_count": 10,
   "metadata": {},
   "outputs": [
    {
     "name": "stdout",
     "output_type": "stream",
     "text": [
      "ID#\n",
      "11457    Spinach, raw\n",
      "Name: Food, dtype: object\n"
     ]
    },
    {
     "data": {
      "image/png": "[encoded data removed]",
      "text/plain": [
       "<Figure size 432x288 with 1 Axes>"
      ]
     },
     "metadata": {
      "needs_background": "light"
     },
     "output_type": "display_data"
    }
   ],
   "source": [
    "name = 'spinach'\n",
    "food = food_finder(name)\n",
    "# food = 1009\n",
    "s = analyze_food_kn(food)"
   ]
  },
  {
   "cell_type": "markdown",
   "metadata": {},
   "source": [
    "See the complete nutients for the given food here.  The nutrients are grouped implicitly as macros, minerals, and vitamins."
   ]
  },
  {
   "cell_type": "code",
   "execution_count": 11,
   "metadata": {},
   "outputs": [
    {
     "name": "stdout",
     "output_type": "stream",
     "text": [
      "Spinach, raw \n",
      "\n",
      "Stripped Name\n",
      "Protein          0.11\n",
      "Carbohydrates    0.06\n",
      "Fiber            0.13\n",
      "Calcium          0.22\n",
      "Copper           0.31\n",
      "Fluoride         0.00\n",
      "Iron             0.74\n",
      "Magnesium        0.43\n",
      "Manganese        0.85\n",
      "Phosphorus       0.15\n",
      "Potassium        0.26\n",
      "Selenium         0.04\n",
      "Sodium           0.11\n",
      "Zinc             0.10\n",
      "Vitamin A        6.79\n",
      "Vitamin B1       0.14\n",
      "Vitamin B2       0.32\n",
      "Vitamin B3       0.10\n",
      "Vitamin B5       0.03\n",
      "Vitamin B6       0.33\n",
      "Vitamin B9       1.05\n",
      "Vitamin B12      0.00\n",
      "Vitamin C        0.68\n",
      "Vitamin D        0.00\n",
      "Vitamin E        0.29\n",
      "Choline          0.08\n",
      "Name: Nutrient (unit), dtype: float64\n"
     ]
    }
   ],
   "source": [
    "print(names[food], '\\n')\n",
    "print(s)"
   ]
  },
  {
   "cell_type": "markdown",
   "metadata": {},
   "source": [
    "## Nutrient Best Sources"
   ]
  },
  {
   "cell_type": "markdown",
   "metadata": {},
   "source": [
    "The following code will create a dataframe of the best sources for each nutrient (per 50 calories)."
   ]
  },
  {
   "cell_type": "code",
   "execution_count": 12,
   "metadata": {},
   "outputs": [
    {
     "data": {
      "text/html": [
       "<div>\n",
       "<style scoped>\n",
       "    .dataframe tbody tr th:only-of-type {\n",
       "        vertical-align: middle;\n",
       "    }\n",
       "\n",
       "    .dataframe tbody tr th {\n",
       "        vertical-align: top;\n",
       "    }\n",
       "\n",
       "    .dataframe thead th {\n",
       "        text-align: right;\n",
       "    }\n",
       "</style>\n",
       "<table border=\"1\" class=\"dataframe\">\n",
       "  <thead>\n",
       "    <tr style=\"text-align: right;\">\n",
       "      <th></th>\n",
       "      <th>Food</th>\n",
       "      <th>Prop. RDA</th>\n",
       "    </tr>\n",
       "  </thead>\n",
       "  <tbody>\n",
       "    <tr>\n",
       "      <th>Protein (g)</th>\n",
       "      <td>Fish, haddock</td>\n",
       "      <td>0.20</td>\n",
       "    </tr>\n",
       "    <tr>\n",
       "      <th>Carbohydrates (g)</th>\n",
       "      <td>Limes, raw</td>\n",
       "      <td>0.14</td>\n",
       "    </tr>\n",
       "    <tr>\n",
       "      <th>Fiber (g)</th>\n",
       "      <td>Raspberries, raw</td>\n",
       "      <td>0.16</td>\n",
       "    </tr>\n",
       "    <tr>\n",
       "      <th>Calcium (mg)</th>\n",
       "      <td>Spinach, raw</td>\n",
       "      <td>0.22</td>\n",
       "    </tr>\n",
       "    <tr>\n",
       "      <th>Copper (mg)</th>\n",
       "      <td>Mushrooms, morel</td>\n",
       "      <td>1.12</td>\n",
       "    </tr>\n",
       "    <tr>\n",
       "      <th>Fluoride (mcg)</th>\n",
       "      <td>Asparagus, cooked</td>\n",
       "      <td>0.01</td>\n",
       "    </tr>\n",
       "    <tr>\n",
       "      <th>Iron (mg)</th>\n",
       "      <td>Mushrooms, morel</td>\n",
       "      <td>2.46</td>\n",
       "    </tr>\n",
       "    <tr>\n",
       "      <th>Magnesium (mg)</th>\n",
       "      <td>Spinach, raw</td>\n",
       "      <td>0.43</td>\n",
       "    </tr>\n",
       "    <tr>\n",
       "      <th>Manganese (mg)</th>\n",
       "      <td>Spinach, raw</td>\n",
       "      <td>0.85</td>\n",
       "    </tr>\n",
       "    <tr>\n",
       "      <th>Phosphorus (mg)</th>\n",
       "      <td>Mushrooms, morel</td>\n",
       "      <td>0.45</td>\n",
       "    </tr>\n",
       "    <tr>\n",
       "      <th>Potassium (mg)</th>\n",
       "      <td>Spinach, raw</td>\n",
       "      <td>0.26</td>\n",
       "    </tr>\n",
       "    <tr>\n",
       "      <th>Selenium (mcg)</th>\n",
       "      <td>Mollusks, oyster</td>\n",
       "      <td>0.89</td>\n",
       "    </tr>\n",
       "    <tr>\n",
       "      <th>Sodium (mg)</th>\n",
       "      <td>Asparagus, cooked</td>\n",
       "      <td>0.36</td>\n",
       "    </tr>\n",
       "    <tr>\n",
       "      <th>Zinc (mg)</th>\n",
       "      <td>Mollusks, oyster</td>\n",
       "      <td>2.60</td>\n",
       "    </tr>\n",
       "    <tr>\n",
       "      <th>Vitamin A (IU)</th>\n",
       "      <td>Lettuce, cos or romaine</td>\n",
       "      <td>8.54</td>\n",
       "    </tr>\n",
       "    <tr>\n",
       "      <th>Thiamin (B1) (mg)</th>\n",
       "      <td>Asparagus, cooked</td>\n",
       "      <td>0.31</td>\n",
       "    </tr>\n",
       "    <tr>\n",
       "      <th>Riboflavin (B2) (mg)</th>\n",
       "      <td>Mushrooms, white</td>\n",
       "      <td>0.41</td>\n",
       "    </tr>\n",
       "    <tr>\n",
       "      <th>Niacin (B3) (mg)</th>\n",
       "      <td>Mushrooms, white</td>\n",
       "      <td>0.50</td>\n",
       "    </tr>\n",
       "    <tr>\n",
       "      <th>Vitamin B5 (mg)</th>\n",
       "      <td>Mushrooms, white</td>\n",
       "      <td>0.77</td>\n",
       "    </tr>\n",
       "    <tr>\n",
       "      <th>Vitamin B6 (mg)</th>\n",
       "      <td>Okra, cooked</td>\n",
       "      <td>0.33</td>\n",
       "    </tr>\n",
       "    <tr>\n",
       "      <th>Folate (B9) (mcg)</th>\n",
       "      <td>Spinach, raw</td>\n",
       "      <td>1.05</td>\n",
       "    </tr>\n",
       "    <tr>\n",
       "      <th>Vitamin B12 (mcg)</th>\n",
       "      <td>Mollusks, oyster</td>\n",
       "      <td>6.41</td>\n",
       "    </tr>\n",
       "    <tr>\n",
       "      <th>Vitamin C (mg)</th>\n",
       "      <td>Peppers, sweet</td>\n",
       "      <td>1.48</td>\n",
       "    </tr>\n",
       "    <tr>\n",
       "      <th>Vitamin D (mcg)</th>\n",
       "      <td>Mushrooms, morel</td>\n",
       "      <td>0.55</td>\n",
       "    </tr>\n",
       "    <tr>\n",
       "      <th>Vitamin E (mg)</th>\n",
       "      <td>Spinach, raw</td>\n",
       "      <td>0.29</td>\n",
       "    </tr>\n",
       "    <tr>\n",
       "      <th>Choline (mg)</th>\n",
       "      <td>Egg, whole</td>\n",
       "      <td>0.17</td>\n",
       "    </tr>\n",
       "  </tbody>\n",
       "</table>\n",
       "</div>"
      ],
      "text/plain": [
       "                                         Food  Prop. RDA\n",
       "Protein (g)                     Fish, haddock       0.20\n",
       "Carbohydrates (g)                  Limes, raw       0.14\n",
       "Fiber (g)                    Raspberries, raw       0.16\n",
       "Calcium (mg)                     Spinach, raw       0.22\n",
       "Copper (mg)                  Mushrooms, morel       1.12\n",
       "Fluoride (mcg)              Asparagus, cooked       0.01\n",
       "Iron (mg)                    Mushrooms, morel       2.46\n",
       "Magnesium (mg)                   Spinach, raw       0.43\n",
       "Manganese (mg)                   Spinach, raw       0.85\n",
       "Phosphorus (mg)              Mushrooms, morel       0.45\n",
       "Potassium (mg)                   Spinach, raw       0.26\n",
       "Selenium (mcg)               Mollusks, oyster       0.89\n",
       "Sodium (mg)                 Asparagus, cooked       0.36\n",
       "Zinc (mg)                    Mollusks, oyster       2.60\n",
       "Vitamin A (IU)        Lettuce, cos or romaine       8.54\n",
       "Thiamin (B1) (mg)           Asparagus, cooked       0.31\n",
       "Riboflavin (B2) (mg)         Mushrooms, white       0.41\n",
       "Niacin (B3) (mg)             Mushrooms, white       0.50\n",
       "Vitamin B5 (mg)              Mushrooms, white       0.77\n",
       "Vitamin B6 (mg)                  Okra, cooked       0.33\n",
       "Folate (B9) (mcg)                Spinach, raw       1.05\n",
       "Vitamin B12 (mcg)            Mollusks, oyster       6.41\n",
       "Vitamin C (mg)                 Peppers, sweet       1.48\n",
       "Vitamin D (mcg)              Mushrooms, morel       0.55\n",
       "Vitamin E (mg)                   Spinach, raw       0.29\n",
       "Choline (mg)                       Egg, whole       0.17"
      ]
     },
     "execution_count": 12,
     "metadata": {},
     "output_type": "execute_result"
    }
   ],
   "source": [
    "nutrients = rda.index\n",
    "best_sources = pd.DataFrame(columns = ['Food', 'Prop. RDA'])\n",
    "\n",
    "for nutr in nutrients:\n",
    "    # Takes the top food for a given nutrient.\n",
    "    a = dv[nutr].sort_values(ascending = False).head(1)\n",
    "    best_sources.loc[nutr] = [names[a.index[0]], a.iloc[0].round(2)]\n",
    "    \n",
    "best_sources "
   ]
  },
  {
   "cell_type": "markdown",
   "metadata": {},
   "source": [
    "This function allows you to explore an individual nutrient's top sources.  "
   ]
  },
  {
   "cell_type": "code",
   "execution_count": 13,
   "metadata": {},
   "outputs": [],
   "source": [
    "def show_top_sources(nutrient):\n",
    "    '''\n",
    "    Shows the top 10 sources for a nutrient, per 50 calories.\n",
    "    '''\n",
    "    try:\n",
    "        s = dv[['Food', nutrient]]\n",
    "    except KeyError:\n",
    "        print('Check the spelling of your nutrient.')\n",
    "        print(list(nutrients))\n",
    "        return None\n",
    "    s.set_index('Food', inplace = True)\n",
    "    s[nutrient].sort_values().tail(10).plot.barh()\n",
    "    plt.xlabel('Proportion RDA')    \n",
    "    plt.ylabel('')\n",
    "    plt.title('Top Sources for ' + nutrient)"
   ]
  },
  {
   "cell_type": "markdown",
   "metadata": {},
   "source": [
    "Enter the name of any nutrient you want to explore.  (Check the exact spelling of any nutrient you want to try - the units are part of the name.)"
   ]
  },
  {
   "cell_type": "code",
   "execution_count": 14,
   "metadata": {},
   "outputs": [
    {
     "data": {
      "image/png": "[encoded data removed]",
      "text/plain": [
       "<Figure size 432x288 with 1 Axes>"
      ]
     },
     "metadata": {
      "needs_background": "light"
     },
     "output_type": "display_data"
    }
   ],
   "source": [
    "nutrient = 'Calcium (mg)'\n",
    "show_top_sources(nutrient)"
   ]
  },
  {
   "cell_type": "markdown",
   "metadata": {},
   "source": [
    "## Guided Diet Simulation"
   ]
  },
  {
   "cell_type": "markdown",
   "metadata": {},
   "source": [
    "The following code imports the `RandomGut` class.  This class simulates a subject choosing foods at random within the MyPlate dietary guidelines.  "
   ]
  },
  {
   "cell_type": "code",
   "execution_count": 15,
   "metadata": {},
   "outputs": [
    {
     "name": "stdout",
     "output_type": "stream",
     "text": [
      ".  .  Complete. \n",
      "\n",
      "Median satisfaction: 2.5\n",
      "Unsatisfied nutrients: 1 / 26\n"
     ]
    },
    {
     "data": {
      "text/plain": [
       "<Figure size 432x288 with 0 Axes>"
      ]
     },
     "metadata": {},
     "output_type": "display_data"
    },
    {
     "data": {
      "image/png": "[encoded data removed]",
      "text/plain": [
       "<Figure size 432x288 with 1 Axes>"
      ]
     },
     "metadata": {
      "needs_background": "light"
     },
     "output_type": "display_data"
    },
    {
     "data": {
      "image/png": "[encoded data removed]",
      "text/plain": [
       "<Figure size 432x288 with 1 Axes>"
      ]
     },
     "metadata": {
      "needs_background": "light"
     },
     "output_type": "display_data"
    }
   ],
   "source": [
    "%run -i \"Gut.py\"\n",
    "%run -i \"RandomGut.py\""
   ]
  },
  {
   "cell_type": "markdown",
   "metadata": {},
   "source": [
    "`food_group_calories` represents how much of each food group the subject is recommended to eat.  The following values are meant to represent those for a moderately active 28-year-old male.  The default RDA values are for the same subject.\n",
    "\n",
    "Feel free to modify them for a different demographic or dietary plan.  "
   ]
  },
  {
   "cell_type": "code",
   "execution_count": 16,
   "metadata": {},
   "outputs": [],
   "source": [
    "food_group_calories = {'Fruits': 300,\n",
    "     'Vegetables': 150,\n",
    "     'Grains': 1100,\n",
    "     'Protein': 400,\n",
    "     'Dairy': 450,\n",
    "     'Snacks': 200}"
   ]
  },
  {
   "cell_type": "markdown",
   "metadata": {},
   "source": [
    "The code below simulates a diet following the calorie goals above.  The result will be a long list foods eaten in small, 50-calorie servings, tracked against the total calories consumed at that point.  This is a random process, and the results will differ each time."
   ]
  },
  {
   "cell_type": "code",
   "execution_count": 17,
   "metadata": {},
   "outputs": [
    {
     "data": {
      "text/html": [
       "<div>\n",
       "<style scoped>\n",
       "    .dataframe tbody tr th:only-of-type {\n",
       "        vertical-align: middle;\n",
       "    }\n",
       "\n",
       "    .dataframe tbody tr th {\n",
       "        vertical-align: top;\n",
       "    }\n",
       "\n",
       "    .dataframe thead th {\n",
       "        text-align: right;\n",
       "    }\n",
       "</style>\n",
       "<table border=\"1\" class=\"dataframe\">\n",
       "  <thead>\n",
       "    <tr style=\"text-align: right;\">\n",
       "      <th></th>\n",
       "      <th>Food</th>\n",
       "    </tr>\n",
       "  </thead>\n",
       "  <tbody>\n",
       "    <tr>\n",
       "      <th>50</th>\n",
       "      <td>Apples, raw</td>\n",
       "    </tr>\n",
       "    <tr>\n",
       "      <th>100</th>\n",
       "      <td>Grapes, american type (slip sk</td>\n",
       "    </tr>\n",
       "    <tr>\n",
       "      <th>150</th>\n",
       "      <td>Lemons, raw</td>\n",
       "    </tr>\n",
       "    <tr>\n",
       "      <th>200</th>\n",
       "      <td>Melons, cantaloupe</td>\n",
       "    </tr>\n",
       "    <tr>\n",
       "      <th>250</th>\n",
       "      <td>Apples, raw</td>\n",
       "    </tr>\n",
       "    <tr>\n",
       "      <th>300</th>\n",
       "      <td>Prunes, dehydrated (low-moistu</td>\n",
       "    </tr>\n",
       "    <tr>\n",
       "      <th>350</th>\n",
       "      <td>Kale, cooked</td>\n",
       "    </tr>\n",
       "    <tr>\n",
       "      <th>400</th>\n",
       "      <td>Potatoes, Russet</td>\n",
       "    </tr>\n",
       "    <tr>\n",
       "      <th>450</th>\n",
       "      <td>Artichokes, (globe or french)</td>\n",
       "    </tr>\n",
       "    <tr>\n",
       "      <th>500</th>\n",
       "      <td>Quinoa, cooked</td>\n",
       "    </tr>\n",
       "    <tr>\n",
       "      <th>550</th>\n",
       "      <td>Bread, wheat</td>\n",
       "    </tr>\n",
       "    <tr>\n",
       "      <th>600</th>\n",
       "      <td>Rice, white</td>\n",
       "    </tr>\n",
       "    <tr>\n",
       "      <th>650</th>\n",
       "      <td>Barley, pearled</td>\n",
       "    </tr>\n",
       "    <tr>\n",
       "      <th>700</th>\n",
       "      <td>Bread, oat bran</td>\n",
       "    </tr>\n",
       "    <tr>\n",
       "      <th>750</th>\n",
       "      <td>Rice, white</td>\n",
       "    </tr>\n",
       "    <tr>\n",
       "      <th>800</th>\n",
       "      <td>Rice, white</td>\n",
       "    </tr>\n",
       "    <tr>\n",
       "      <th>850</th>\n",
       "      <td>Bread, oat bran</td>\n",
       "    </tr>\n",
       "    <tr>\n",
       "      <th>900</th>\n",
       "      <td>Rice, brown</td>\n",
       "    </tr>\n",
       "    <tr>\n",
       "      <th>950</th>\n",
       "      <td>Oat bran, cooked</td>\n",
       "    </tr>\n",
       "    <tr>\n",
       "      <th>1000</th>\n",
       "      <td>Rice, white</td>\n",
       "    </tr>\n",
       "    <tr>\n",
       "      <th>1050</th>\n",
       "      <td>Barley, pearled</td>\n",
       "    </tr>\n",
       "    <tr>\n",
       "      <th>1100</th>\n",
       "      <td>Rice, brown</td>\n",
       "    </tr>\n",
       "    <tr>\n",
       "      <th>1150</th>\n",
       "      <td>Rice, white</td>\n",
       "    </tr>\n",
       "    <tr>\n",
       "      <th>1200</th>\n",
       "      <td>Bread, wheat</td>\n",
       "    </tr>\n",
       "    <tr>\n",
       "      <th>1250</th>\n",
       "      <td>Bread, pumpernickel</td>\n",
       "    </tr>\n",
       "    <tr>\n",
       "      <th>1300</th>\n",
       "      <td>Rice, white</td>\n",
       "    </tr>\n",
       "    <tr>\n",
       "      <th>1350</th>\n",
       "      <td>Barley, pearled</td>\n",
       "    </tr>\n",
       "    <tr>\n",
       "      <th>1400</th>\n",
       "      <td>Bread, pumpernickel</td>\n",
       "    </tr>\n",
       "    <tr>\n",
       "      <th>1450</th>\n",
       "      <td>Bread, rye</td>\n",
       "    </tr>\n",
       "    <tr>\n",
       "      <th>1500</th>\n",
       "      <td>Rice, white</td>\n",
       "    </tr>\n",
       "    <tr>\n",
       "      <th>1550</th>\n",
       "      <td>Bread, oat bran</td>\n",
       "    </tr>\n",
       "    <tr>\n",
       "      <th>1600</th>\n",
       "      <td>Duck, domesticated</td>\n",
       "    </tr>\n",
       "    <tr>\n",
       "      <th>1650</th>\n",
       "      <td>Game meat, beaver</td>\n",
       "    </tr>\n",
       "    <tr>\n",
       "      <th>1700</th>\n",
       "      <td>Chicken, roasting</td>\n",
       "    </tr>\n",
       "    <tr>\n",
       "      <th>1750</th>\n",
       "      <td>Beef, top sirloin</td>\n",
       "    </tr>\n",
       "    <tr>\n",
       "      <th>1800</th>\n",
       "      <td>Fish, grouper</td>\n",
       "    </tr>\n",
       "    <tr>\n",
       "      <th>1850</th>\n",
       "      <td>Pork, cured</td>\n",
       "    </tr>\n",
       "    <tr>\n",
       "      <th>1900</th>\n",
       "      <td>Nuts, cashew nuts</td>\n",
       "    </tr>\n",
       "    <tr>\n",
       "      <th>1950</th>\n",
       "      <td>Fish, trout</td>\n",
       "    </tr>\n",
       "    <tr>\n",
       "      <th>2000</th>\n",
       "      <td>Egg, whole</td>\n",
       "    </tr>\n",
       "    <tr>\n",
       "      <th>2050</th>\n",
       "      <td>Milk, whole</td>\n",
       "    </tr>\n",
       "    <tr>\n",
       "      <th>2100</th>\n",
       "      <td>Cheese, cheddar</td>\n",
       "    </tr>\n",
       "    <tr>\n",
       "      <th>2150</th>\n",
       "      <td>Egg, whole</td>\n",
       "    </tr>\n",
       "    <tr>\n",
       "      <th>2200</th>\n",
       "      <td>Cheese, goat</td>\n",
       "    </tr>\n",
       "    <tr>\n",
       "      <th>2250</th>\n",
       "      <td>Milk, whole</td>\n",
       "    </tr>\n",
       "    <tr>\n",
       "      <th>2300</th>\n",
       "      <td>Cheese, cheddar</td>\n",
       "    </tr>\n",
       "    <tr>\n",
       "      <th>2350</th>\n",
       "      <td>Cheese, cheddar</td>\n",
       "    </tr>\n",
       "    <tr>\n",
       "      <th>2400</th>\n",
       "      <td>Cheese, cottage</td>\n",
       "    </tr>\n",
       "    <tr>\n",
       "      <th>2450</th>\n",
       "      <td>Snacks, banana chips</td>\n",
       "    </tr>\n",
       "    <tr>\n",
       "      <th>2500</th>\n",
       "      <td>Snacks, rice cakes</td>\n",
       "    </tr>\n",
       "    <tr>\n",
       "      <th>2550</th>\n",
       "      <td>Snacks, granola bars</td>\n",
       "    </tr>\n",
       "    <tr>\n",
       "      <th>2600</th>\n",
       "      <td>Jams and preserves</td>\n",
       "    </tr>\n",
       "  </tbody>\n",
       "</table>\n",
       "</div>"
      ],
      "text/plain": [
       "                                Food\n",
       "50                       Apples, raw\n",
       "100   Grapes, american type (slip sk\n",
       "150                      Lemons, raw\n",
       "200               Melons, cantaloupe\n",
       "250                      Apples, raw\n",
       "300   Prunes, dehydrated (low-moistu\n",
       "350                     Kale, cooked\n",
       "400                 Potatoes, Russet\n",
       "450    Artichokes, (globe or french)\n",
       "500                   Quinoa, cooked\n",
       "550                     Bread, wheat\n",
       "600                      Rice, white\n",
       "650                  Barley, pearled\n",
       "700                  Bread, oat bran\n",
       "750                      Rice, white\n",
       "800                      Rice, white\n",
       "850                  Bread, oat bran\n",
       "900                      Rice, brown\n",
       "950                 Oat bran, cooked\n",
       "1000                     Rice, white\n",
       "1050                 Barley, pearled\n",
       "1100                     Rice, brown\n",
       "1150                     Rice, white\n",
       "1200                    Bread, wheat\n",
       "1250             Bread, pumpernickel\n",
       "1300                     Rice, white\n",
       "1350                 Barley, pearled\n",
       "1400             Bread, pumpernickel\n",
       "1450                      Bread, rye\n",
       "1500                     Rice, white\n",
       "1550                 Bread, oat bran\n",
       "1600              Duck, domesticated\n",
       "1650               Game meat, beaver\n",
       "1700               Chicken, roasting\n",
       "1750               Beef, top sirloin\n",
       "1800                   Fish, grouper\n",
       "1850                     Pork, cured\n",
       "1900               Nuts, cashew nuts\n",
       "1950                     Fish, trout\n",
       "2000                      Egg, whole\n",
       "2050                     Milk, whole\n",
       "2100                 Cheese, cheddar\n",
       "2150                      Egg, whole\n",
       "2200                    Cheese, goat\n",
       "2250                     Milk, whole\n",
       "2300                 Cheese, cheddar\n",
       "2350                 Cheese, cheddar\n",
       "2400                 Cheese, cottage\n",
       "2450            Snacks, banana chips\n",
       "2500              Snacks, rice cakes\n",
       "2550            Snacks, granola bars\n",
       "2600              Jams and preserves"
      ]
     },
     "execution_count": 17,
     "metadata": {},
     "output_type": "execute_result"
    }
   ],
   "source": [
    "# Optional line for random seed.\n",
    "# nr.seed(0)\n",
    "v = food_group_calories.values()\n",
    "calories = np.array(list(v)).sum()\n",
    "\n",
    "r = RandomGut(df = dfa, calorie_limit = calories, food_group_calories = food_group_calories)\n",
    "tracker = r.get_tracker()\n",
    "\n",
    "tracker.Food.to_frame()"
   ]
  },
  {
   "cell_type": "markdown",
   "metadata": {},
   "source": [
    "This cell enables you to filter down by food group."
   ]
  },
  {
   "cell_type": "code",
   "execution_count": 18,
   "metadata": {},
   "outputs": [
    {
     "name": "stdout",
     "output_type": "stream",
     "text": [
      "Food Groups\n",
      "['Fruits' 'Vegetables' 'Grains' 'Protein' 'Dairy' 'Snacks'] \n",
      "\n",
      "Fruits\n",
      "50                        Apples, raw\n",
      "100    Grapes, american type (slip sk\n",
      "150                       Lemons, raw\n",
      "200                Melons, cantaloupe\n",
      "250                       Apples, raw\n",
      "300    Prunes, dehydrated (low-moistu\n",
      "Name: Food, dtype: object\n"
     ]
    }
   ],
   "source": [
    "print('Food Groups')\n",
    "print(tracker['Food Group'].unique(), '\\n')\n",
    "\n",
    "food_group = 'Fruits'\n",
    "print(food_group)\n",
    "print(tracker.Food.loc[tracker['Food Group'] == food_group])"
   ]
  },
  {
   "cell_type": "markdown",
   "metadata": {},
   "source": [
    "The code below gives the nutritional performance of the diet above in terms of the RDA for the same subject.  **Median** denotes the median RDA satisfaction in terms of proportions, so 1.0 corresponds to 100%.  **Unsatisfied** denotes the number of nutrients where the RDA was not met by the diet, out of a total of 26 tracked nutrients.\n",
    "\n",
    "In a simulation of the `RandomGut` with 1000 iterations, the average median satisfaction was 1.93 (almost 2x the RDA), and the average number of unsatisfied nutrients was 4.4.  "
   ]
  },
  {
   "cell_type": "code",
   "execution_count": 19,
   "metadata": {},
   "outputs": [
    {
     "data": {
      "text/plain": [
       "Median         1.78\n",
       "Unsatisfied    5.00\n",
       "dtype: float64"
      ]
     },
     "execution_count": 19,
     "metadata": {},
     "output_type": "execute_result"
    }
   ],
   "source": [
    "r.get_results()"
   ]
  }
 ],
 "metadata": {
  "kernelspec": {
   "display_name": "Python 3",
   "language": "python",
   "name": "python3"
  },
  "language_info": {
   "codemirror_mode": {
    "name": "ipython",
    "version": 3
   },
   "file_extension": ".py",
   "mimetype": "text/x-python",
   "name": "python",
   "nbconvert_exporter": "python",
   "pygments_lexer": "ipython3",
   "version": "3.7.0"
  }
 },
 "nbformat": 4,
 "nbformat_minor": 2
}
